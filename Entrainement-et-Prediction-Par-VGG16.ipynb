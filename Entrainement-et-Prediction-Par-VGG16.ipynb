{
 "cells": [
  {
   "cell_type": "markdown",
   "metadata": {},
   "source": [
    "# Contexte"
   ]
  },
  {
   "cell_type": "markdown",
   "metadata": {},
   "source": [
    "Ce NoteBook est celui utilisé pour entrainer le CNN via VGG16 sur les serveur EC2 de AWS. (serveur pxlarge) \n",
    "\n",
    "De nombreux essais ont été fait pour permettre d'arriver à la modéliser la classification des noms de baleines, ici il s'agit du fichier prenant en entrée le DataSet des classes ayant plus de 5 fichiers fournis."
   ]
  },
  {
   "cell_type": "markdown",
   "metadata": {},
   "source": [
    "## Librairies"
   ]
  },
  {
   "cell_type": "code",
   "execution_count": 1,
   "metadata": {},
   "outputs": [],
   "source": [
    "import pandas as pd\n",
    "import numpy as np\n",
    "import matplotlib.pyplot as plt\n",
    "from datetime import datetime"
   ]
  },
  {
   "cell_type": "code",
   "execution_count": 2,
   "metadata": {},
   "outputs": [
    {
     "name": "stderr",
     "output_type": "stream",
     "text": [
      "Using TensorFlow backend.\n"
     ]
    }
   ],
   "source": [
    "# Librairies Keras\n",
    "from keras.preprocessing.image import load_img\n",
    "from keras.preprocessing.image import ImageDataGenerator\n",
    "\n",
    "from keras import models\n",
    "from keras import layers\n",
    "from keras import optimizers\n",
    "\n",
    "# Model \n",
    "from keras.applications import VGG16"
   ]
  },
  {
   "cell_type": "markdown",
   "metadata": {},
   "source": [
    "## Variables Utiles"
   ]
  },
  {
   "cell_type": "code",
   "execution_count": 3,
   "metadata": {},
   "outputs": [],
   "source": [
    "rep_image = '/home/ubuntu/data/DATAS/'\n",
    "rep_file_csv = '/home/ubuntu/data/NoteBook/input/'\n",
    "rep_output = '/home/ubuntu/data/NoteBook/output/'"
   ]
  },
  {
   "cell_type": "code",
   "execution_count": 4,
   "metadata": {},
   "outputs": [],
   "source": [
    "dir_train = rep_image + 'train_ter/'\n",
    "#dir_train = rep_image + 'train_bis/'\n",
    "\n",
    "dir_validation = dir_train\n",
    "dir_test = dir_train\n",
    "\n",
    "dir_prediction = rep_image + 'test/'"
   ]
  },
  {
   "cell_type": "markdown",
   "metadata": {},
   "source": [
    "### CSV"
   ]
  },
  {
   "cell_type": "code",
   "execution_count": null,
   "metadata": {},
   "outputs": [],
   "source": [
    "# Chargement du fichier initial \n",
    "dir_CSV_IN = '/home/ubuntu/data/CSV/'\n",
    "file1 = dir_CSV_IN + 'train.csv'\n",
    "df1 = pd.read_csv(file1)\n",
    "\n",
    "# On filtre les classes ayant strictement plus de 5 images\n",
    "t1 = df1.Id.value_counts()\n",
    "l_representee = t1[t1.values>5].index\n",
    "\n",
    "l_m_df = []\n",
    "for name in l_representee:\n",
    "    l_m_df.append(df1[df1.Id==name])\n",
    "\n",
    "new_df = pd.concat(l_m_df)"
   ]
  },
  {
   "cell_type": "markdown",
   "metadata": {},
   "source": [
    "### On sépare les données en Train (70 %) / Validation (15%) / Test (15%)\n",
    "> On sépare en stratify pour s'assurer de ne pas manquer d'une classe dans un des ensembles"
   ]
  },
  {
   "cell_type": "code",
   "execution_count": null,
   "metadata": {},
   "outputs": [],
   "source": [
    "from sklearn.model_selection import train_test_split\n",
    "\n",
    "X_train_l, X_test_validation_l, _, _ = train_test_split(\n",
    "    new_df, new_df, test_size=0.3, random_state=42, stratify=new_df.Id)\n",
    "\n",
    "X_validation_l, X_test_l, _, _ = train_test_split(\n",
    "    X_test_validation_l, X_test_validation_l, \n",
    "    test_size=0.5, random_state=42, stratify=X_test_validation_l.Id\n",
    ")\n",
    "\n",
    "X_train_l.to_csv(rep_file_csv + 'train_3_10.csv', index=False)\n",
    "X_validation_l.to_csv(rep_file_csv + 'validation_3_10.csv', index=False)\n",
    "X_test_l.to_csv(rep_file_csv + 'test_3_10.csv', index=False)"
   ]
  },
  {
   "cell_type": "code",
   "execution_count": 5,
   "metadata": {},
   "outputs": [],
   "source": [
    "df_train = pd.read_csv(rep_file_csv + 'train_3_10.csv')\n",
    "df_validation = pd.read_csv(rep_file_csv + 'validation_3_10.csv')\n",
    "df_test = pd.read_csv(rep_file_csv + 'test_3_10.csv')"
   ]
  },
  {
   "cell_type": "markdown",
   "metadata": {},
   "source": [
    "# Models"
   ]
  },
  {
   "cell_type": "markdown",
   "metadata": {},
   "source": [
    "### Variables Globales"
   ]
  },
  {
   "cell_type": "code",
   "execution_count": 6,
   "metadata": {},
   "outputs": [],
   "source": [
    "# BatchSize : \n",
    "train_batchsize = 32\n",
    "validation_batchsize = 20\n",
    "\n",
    "#image_size = 256\n",
    "image_size = 224"
   ]
  },
  {
   "cell_type": "markdown",
   "metadata": {},
   "source": [
    "### Model\n",
    "> On lance le lancement du modèle par fonction.\n",
    "Pour cela on utilise le VGG16 à partir des données d'imageNet"
   ]
  },
  {
   "cell_type": "code",
   "execution_count": 7,
   "metadata": {},
   "outputs": [],
   "source": [
    "def prepare_model(image_size = 224, nb_classe=120):\n",
    "    \n",
    "    from keras.applications import VGG16\n",
    "    #Nous chargeons le modèle VGG16 pré-entrainé\n",
    "  \n",
    "    #vgg_conv = VGG16(weights='imagenet', include_top=False, \n",
    "    #                 input_shape=(image_size, image_size, 3))\n",
    "    vgg_conv = VGG16(weights='imagenet', include_top=False, \n",
    "                     input_shape=(image_size, image_size, 3))\n",
    "    \n",
    "    ### Nous allons entrainer uniquement les 4 plus haut niveaux \n",
    "    # Les autres restent freezé (pour ne pas les réentrainer\n",
    "    for layer in vgg_conv.layers[:-4]:\n",
    "        layer.trainable = False\n",
    "\n",
    "    # Check the trainable status of the individual layers\n",
    "    for layer in vgg_conv.layers:\n",
    "        print(layer, layer.trainable)\n",
    "        \n",
    "    from keras import models\n",
    "    from keras import layers\n",
    "    from keras import optimizers\n",
    "\n",
    "    # Create the model\n",
    "    model = models.Sequential()\n",
    "\n",
    "    # Add the vgg convolutional base model\n",
    "    model.add(vgg_conv)\n",
    "\n",
    "    # Add new layers\n",
    "    model.add(layers.Flatten())\n",
    "    model.add(layers.Dense(1024, activation='relu'))\n",
    "    model.add(layers.Dropout(0.5))\n",
    "    \n",
    "    #### Nombre de Classes : on met cela en paramètre !!!!!!!!\n",
    "    #######model.add(layers.Dense(120, activation='softmax'))\n",
    "    model.add(layers.Dense(nb_classe, activation='softmax'))\n",
    "\n",
    "    # Show a summary of the model. Check the number of trainable parameters\n",
    "    #####model.summary()\n",
    "    \n",
    "    return model"
   ]
  },
  {
   "cell_type": "markdown",
   "metadata": {},
   "source": [
    "# Programme"
   ]
  },
  {
   "cell_type": "markdown",
   "metadata": {},
   "source": [
    "## Les ImageDataGenerator qui réalisent les transformation sur les images"
   ]
  },
  {
   "cell_type": "code",
   "execution_count": 8,
   "metadata": {},
   "outputs": [],
   "source": [
    "train_datagen = ImageDataGenerator(\n",
    "    rescale=1./255,\n",
    "    rotation_range=45,\n",
    "    width_shift_range=0.4,\n",
    "    height_shift_range=0.4,\n",
    "    horizontal_flip=True,\n",
    "    fill_mode='nearest',\n",
    "    ###brightness_range=[0.95, 1.05],\n",
    "    brightness_range=[0.80, 1.2],\n",
    "    zoom_range=[0.75, 1.25],\n",
    "    #zoom_range=[0.85, 1.15]\n",
    ")\n",
    "\n",
    "#validation_datagen = ImageDataGenerator(rescale=1./255, horizontal_flip=True, \n",
    "#                                        height_shift_range=0.2,fill_mode='nearest',)\n",
    "\n",
    "\n",
    "validation_datagen = ImageDataGenerator(rescale=1./255, horizontal_flip=True)\n",
    "\n",
    "test_datagen = ImageDataGenerator(rescale=1./255)"
   ]
  },
  {
   "cell_type": "markdown",
   "metadata": {},
   "source": [
    "##### Generators"
   ]
  },
  {
   "cell_type": "code",
   "execution_count": 9,
   "metadata": {},
   "outputs": [
    {
     "name": "stdout",
     "output_type": "stream",
     "text": [
      "Found 11943 images belonging to 634 classes.\n"
     ]
    }
   ],
   "source": [
    "train_generator = train_datagen.flow_from_dataframe(\n",
    "    dataframe=df_train, \n",
    "    directory=dir_train,\n",
    "    ###save_to_dir=dir_my_working,\n",
    "    ###save_prefix='TRAIN',\n",
    "    target_size=(image_size, image_size),\n",
    "    batch_size=train_batchsize,\n",
    "    ####color_mode='grayscale',\n",
    "    class_mode='categorical',\n",
    "    x_col='Image', \n",
    "    y_col='Id', \n",
    "    has_ext=True\n",
    ")\n"
   ]
  },
  {
   "cell_type": "code",
   "execution_count": 10,
   "metadata": {},
   "outputs": [
    {
     "name": "stdout",
     "output_type": "stream",
     "text": [
      "Found 2559 images belonging to 634 classes.\n"
     ]
    }
   ],
   "source": [
    "validation_generator = validation_datagen.flow_from_dataframe(\n",
    "    dataframe=df_validation, \n",
    "    directory=dir_validation,\n",
    "    ####save_to_dir=dir_my_working,\n",
    "    #####save_prefix='VALID',\n",
    "    target_size=(image_size, image_size),\n",
    "    ######batch_size=train_batchsize,\n",
    "    batch_size=validation_batchsize,\n",
    "    #####color_mode='grayscale',\n",
    "    class_mode='categorical',\n",
    "    x_col='Image', \n",
    "    y_col='Id', \n",
    "    has_ext=True \n",
    ")"
   ]
  },
  {
   "cell_type": "code",
   "execution_count": 11,
   "metadata": {},
   "outputs": [
    {
     "name": "stdout",
     "output_type": "stream",
     "text": [
      "Found 2560 images belonging to 634 classes.\n"
     ]
    }
   ],
   "source": [
    "test_generator = test_datagen.flow_from_dataframe(\n",
    "    dataframe=df_test, \n",
    "    directory=dir_test,\n",
    "    ####save_to_dir=dir_my_working,\n",
    "    #####save_prefix='VALID',\n",
    "    target_size=(image_size, image_size),\n",
    "    batch_size=train_batchsize,\n",
    "    #####color_mode='grayscale',\n",
    "    class_mode='categorical',\n",
    "    ######class_mode='categorical',\n",
    "    ######class_mode=None,\n",
    "    x_col='Image', \n",
    "    y_col='Id', \n",
    "    #######y_col=None, \n",
    "    has_ext=True \n",
    ")"
   ]
  },
  {
   "cell_type": "markdown",
   "metadata": {},
   "source": [
    "### Avec GPU"
   ]
  },
  {
   "cell_type": "code",
   "execution_count": 2,
   "metadata": {},
   "outputs": [],
   "source": [
    "import tensorflow as tf\n",
    "sess = tf.Session()\n"
   ]
  },
  {
   "cell_type": "code",
   "execution_count": 13,
   "metadata": {},
   "outputs": [
    {
     "data": {
      "text/plain": [
       "True"
      ]
     },
     "execution_count": 13,
     "metadata": {},
     "output_type": "execute_result"
    }
   ],
   "source": [
    "tf.test.is_gpu_available()"
   ]
  },
  {
   "cell_type": "code",
   "execution_count": 14,
   "metadata": {
    "scrolled": true
   },
   "outputs": [
    {
     "name": "stdout",
     "output_type": "stream",
     "text": [
      "<keras.engine.input_layer.InputLayer object at 0x7f1e8d09cb00> False\n",
      "<keras.layers.convolutional.Conv2D object at 0x7f1e8d09ca20> False\n",
      "<keras.layers.convolutional.Conv2D object at 0x7f1e8d09c940> False\n",
      "<keras.layers.pooling.MaxPooling2D object at 0x7f1e8d09b780> False\n",
      "<keras.layers.convolutional.Conv2D object at 0x7f1e8d09b240> False\n",
      "<keras.layers.convolutional.Conv2D object at 0x7f1e8d099e48> False\n",
      "<keras.layers.pooling.MaxPooling2D object at 0x7f1e8d098ac8> False\n",
      "<keras.layers.convolutional.Conv2D object at 0x7f1e8d098320> False\n",
      "<keras.layers.convolutional.Conv2D object at 0x7f1e8d096da0> False\n",
      "<keras.layers.convolutional.Conv2D object at 0x7f1e8d095ac8> False\n",
      "<keras.layers.pooling.MaxPooling2D object at 0x7f1e8d093dd8> False\n",
      "<keras.layers.convolutional.Conv2D object at 0x7f1e8d093da0> False\n",
      "<keras.layers.convolutional.Conv2D object at 0x7f1e8d091f28> False\n",
      "<keras.layers.convolutional.Conv2D object at 0x7f1e8d090b70> False\n",
      "<keras.layers.pooling.MaxPooling2D object at 0x7f1e8d10fc88> False\n",
      "<keras.layers.convolutional.Conv2D object at 0x7f1e8d10f6a0> True\n",
      "<keras.layers.convolutional.Conv2D object at 0x7f1e8d10de48> True\n",
      "<keras.layers.convolutional.Conv2D object at 0x7f1e8d10cb70> True\n",
      "<keras.layers.pooling.MaxPooling2D object at 0x7f1e8d10aef0> True\n",
      "Epoch 1/30\n",
      "374/373 [==============================] - 223s 596ms/step - loss: 3.8165 - acc: 0.5482 - val_loss: 7.3750 - val_acc: 0.0027\n",
      "Epoch 2/30\n",
      "374/373 [==============================] - 212s 566ms/step - loss: 3.6105 - acc: 0.5667 - val_loss: 7.3102 - val_acc: 0.0027\n",
      "Epoch 3/30\n",
      "374/373 [==============================] - 212s 567ms/step - loss: 3.5744 - acc: 0.5662 - val_loss: 7.2544 - val_acc: 0.0027\n",
      "Epoch 4/30\n",
      "374/373 [==============================] - 211s 565ms/step - loss: 3.5381 - acc: 0.5670 - val_loss: 7.3440 - val_acc: 0.0027\n",
      "Epoch 5/30\n",
      "374/373 [==============================] - 212s 567ms/step - loss: 3.5265 - acc: 0.5659 - val_loss: 7.2312 - val_acc: 0.0027\n",
      "Epoch 6/30\n",
      "374/373 [==============================] - 211s 565ms/step - loss: 3.5213 - acc: 0.5659 - val_loss: 7.2446 - val_acc: 0.0027\n",
      "Epoch 7/30\n",
      "374/373 [==============================] - 213s 569ms/step - loss: 3.5130 - acc: 0.5662 - val_loss: 7.2906 - val_acc: 0.0027\n",
      "Epoch 8/30\n",
      "374/373 [==============================] - 211s 563ms/step - loss: 3.4878 - acc: 0.5673 - val_loss: 7.3573 - val_acc: 0.0027\n",
      "Epoch 9/30\n",
      "374/373 [==============================] - 212s 568ms/step - loss: 3.4897 - acc: 0.5670 - val_loss: 7.3481 - val_acc: 0.0027\n",
      "Epoch 10/30\n",
      "374/373 [==============================] - 211s 564ms/step - loss: 3.4875 - acc: 0.5665 - val_loss: 7.3581 - val_acc: 0.0027\n",
      "Epoch 11/30\n",
      "374/373 [==============================] - 211s 563ms/step - loss: 3.4742 - acc: 0.5662 - val_loss: 7.3058 - val_acc: 0.0027\n",
      "Epoch 12/30\n",
      "374/373 [==============================] - 212s 566ms/step - loss: 3.4661 - acc: 0.5667 - val_loss: 7.3510 - val_acc: 0.0027\n",
      "Epoch 13/30\n",
      "374/373 [==============================] - 212s 566ms/step - loss: 3.4643 - acc: 0.5662 - val_loss: 7.4241 - val_acc: 0.0027\n",
      "Epoch 14/30\n",
      "374/373 [==============================] - 213s 571ms/step - loss: 3.4539 - acc: 0.5673 - val_loss: 7.4437 - val_acc: 0.0027\n",
      "Epoch 15/30\n",
      "374/373 [==============================] - 212s 567ms/step - loss: 3.4563 - acc: 0.5662 - val_loss: 7.3294 - val_acc: 0.0027\n",
      "Epoch 16/30\n",
      "374/373 [==============================] - 212s 567ms/step - loss: 3.4542 - acc: 0.5659 - val_loss: 7.2947 - val_acc: 0.0027\n",
      "Epoch 17/30\n",
      "374/373 [==============================] - 212s 566ms/step - loss: 3.4427 - acc: 0.5665 - val_loss: 7.3600 - val_acc: 0.0027\n",
      "Epoch 18/30\n",
      "374/373 [==============================] - 211s 565ms/step - loss: 3.4398 - acc: 0.5667 - val_loss: 7.4165 - val_acc: 0.0027\n",
      "Epoch 19/30\n",
      "374/373 [==============================] - 212s 568ms/step - loss: 3.4408 - acc: 0.5659 - val_loss: 7.3120 - val_acc: 0.0027\n",
      "Epoch 20/30\n",
      "374/373 [==============================] - 211s 563ms/step - loss: 3.4389 - acc: 0.5659 - val_loss: 7.3374 - val_acc: 0.0027\n",
      "Epoch 21/30\n",
      "374/373 [==============================] - 212s 568ms/step - loss: 3.4363 - acc: 0.5659 - val_loss: 7.3501 - val_acc: 0.0027\n",
      "Epoch 22/30\n",
      "374/373 [==============================] - 212s 568ms/step - loss: 3.4300 - acc: 0.5670 - val_loss: 7.4534 - val_acc: 0.0027\n",
      "Epoch 23/30\n",
      "374/373 [==============================] - 211s 564ms/step - loss: 3.4235 - acc: 0.5665 - val_loss: 7.4343 - val_acc: 0.0027\n",
      "Epoch 24/30\n",
      "374/373 [==============================] - 210s 563ms/step - loss: 3.4287 - acc: 0.5662 - val_loss: 7.4253 - val_acc: 0.0027\n",
      "Epoch 25/30\n",
      "374/373 [==============================] - 210s 563ms/step - loss: 3.4248 - acc: 0.5665 - val_loss: 7.3882 - val_acc: 0.0027\n",
      "Epoch 26/30\n",
      "374/373 [==============================] - 213s 569ms/step - loss: 3.4148 - acc: 0.5667 - val_loss: 7.5423 - val_acc: 0.0027\n",
      "Epoch 27/30\n",
      "374/373 [==============================] - 212s 567ms/step - loss: 3.4210 - acc: 0.5667 - val_loss: 7.4479 - val_acc: 0.0027\n",
      "Epoch 28/30\n",
      "374/373 [==============================] - 213s 570ms/step - loss: 3.4215 - acc: 0.5667 - val_loss: 7.4887 - val_acc: 0.0027\n",
      "Epoch 29/30\n",
      "374/373 [==============================] - 214s 572ms/step - loss: 3.4153 - acc: 0.5659 - val_loss: 7.3408 - val_acc: 0.0027\n",
      "Epoch 30/30\n",
      "374/373 [==============================] - 211s 564ms/step - loss: 3.4146 - acc: 0.5665 - val_loss: 7.3205 - val_acc: 0.0027\n",
      "CPU times: user 20min 7s, sys: 3min 25s, total: 23min 33s\n",
      "Wall time: 1h 46min 6s\n"
     ]
    }
   ],
   "source": [
    "%%time \n",
    "\n",
    "#NB_EPOCH = 10 \n",
    "NB_EPOCH = 30\n",
    "###NB_EPOCH = 30 \n",
    "\n",
    "model_gpu = prepare_model(image_size=224, nb_classe=634)\n",
    "\n",
    "model_gpu.compile(\n",
    "    loss='categorical_crossentropy',\n",
    "    ####optimizer=optimizers.RMSprop(lr=1e-4),\n",
    "    optimizer=optimizers.SGD(lr=1e-4),\n",
    "    metrics=['acc'])\n",
    "\n",
    "history_gpu = model_gpu.fit_generator(\n",
    "    train_generator,\n",
    "    steps_per_epoch=train_generator.samples/train_generator.batch_size ,\n",
    "    epochs=NB_EPOCH,\n",
    "    validation_data=validation_generator,\n",
    "    validation_steps=validation_generator.samples/validation_generator.batch_size,\n",
    "    #workers = 1, \n",
    "    use_multiprocessing = True, \n",
    "    #######use_multiprocessing = False, \n",
    "    verbose=1,\n",
    "    #verbose=1\n",
    ")\n",
    "\n",
    "# On sauvegarde le modèle \n",
    "model_gpu.save_weights(rep_output + \"model_gpu2_3_10.h5\")\n",
    "model_gpu.save_weights(rep_output + \"model_gpu2_weights_3_10.h5\")"
   ]
  },
  {
   "cell_type": "markdown",
   "metadata": {},
   "source": [
    "### On sauvegarde le dump de history_gpu.history en json "
   ]
  },
  {
   "cell_type": "code",
   "execution_count": 15,
   "metadata": {},
   "outputs": [],
   "source": [
    "import json\n",
    "\n",
    "histo1 = json.dumps(history_gpu.history)\n",
    "with open(rep_output+\"3_10_history_gpu_history.json\", \"w\") as f:\n",
    "    f.write(histo1)"
   ]
  },
  {
   "cell_type": "markdown",
   "metadata": {},
   "source": [
    "## Etablissement de l'accuracy des données de test"
   ]
  },
  {
   "cell_type": "code",
   "execution_count": 21,
   "metadata": {},
   "outputs": [
    {
     "name": "stdout",
     "output_type": "stream",
     "text": [
      "Found 2560 images belonging to 634 classes.\n"
     ]
    }
   ],
   "source": [
    "test_generator = test_datagen.flow_from_dataframe(\n",
    "    dataframe=df_test, \n",
    "    directory=dir_test,\n",
    "    ####save_to_dir=dir_my_working,\n",
    "    #####save_prefix='VALID',\n",
    "    target_size=(image_size, image_size),\n",
    "    batch_size=train_batchsize+1,\n",
    "    class_mode='categorical',\n",
    "    ######class_mode='categorical',\n",
    "    ######class_mode=None,\n",
    "    x_col='Image', \n",
    "    y_col='Id', \n",
    "    #######y_col=None, \n",
    "    has_ext=True \n",
    ")"
   ]
  },
  {
   "cell_type": "code",
   "execution_count": 26,
   "metadata": {},
   "outputs": [
    {
     "name": "stdout",
     "output_type": "stream",
     "text": [
      "78/77 [==============================] - 29s 367ms/step\n",
      "CPU times: user 8.67 s, sys: 284 ms, total: 8.96 s\n",
      "Wall time: 28.6 s\n"
     ]
    }
   ],
   "source": [
    "%%time \n",
    "\n",
    "test_generator.reset()\n",
    "STEP_SIZE_TEST=test_generator.n/test_generator.batch_size\n",
    "\n",
    "prediction_1 = model_gpu.predict_generator(\n",
    "    test_generator,\n",
    "    steps=STEP_SIZE_TEST,\n",
    "    verbose=1)"
   ]
  },
  {
   "cell_type": "code",
   "execution_count": 28,
   "metadata": {},
   "outputs": [],
   "source": [
    "dict_class_indices = dict()\n",
    "for k,v in zip(test_generator.class_indices.keys(), test_generator.class_indices.values()):\n",
    "    dict_class_indices[v]=k\n",
    "\n",
    "col_name = [dict_class_indices[x] for x in range(prediction_1.shape[1])]\n",
    "\n",
    "df_prediction_1 = pd.DataFrame(prediction_1, columns=col_name, index=df_test.Image.values)\n",
    "df_prediction_1['Real_Class_Name'] = df_test.Id.values\n",
    "df_prediction_1['Real_Class_Id'] = [ test_generator.class_indices[x] for x in df_test.Id.values ]"
   ]
  },
  {
   "cell_type": "markdown",
   "metadata": {},
   "source": [
    "## Sauvegarde des données de test prédites pour analyser et mesurer la performance du modèle"
   ]
  },
  {
   "cell_type": "code",
   "execution_count": 29,
   "metadata": {},
   "outputs": [],
   "source": [
    "df_prediction_1.to_csv(rep_output+'3_10_DF_TEST_PREDICTION.csv', index=True)"
   ]
  },
  {
   "cell_type": "markdown",
   "metadata": {},
   "source": [
    "## PREDICTION DES DONNEES CHALLENGE"
   ]
  },
  {
   "cell_type": "markdown",
   "metadata": {},
   "source": [
    "On génère la prédiction des données du Challenge "
   ]
  },
  {
   "cell_type": "code",
   "execution_count": 30,
   "metadata": {},
   "outputs": [],
   "source": [
    "import os\n",
    "\n",
    "df_predict = pd.DataFrame({'Image':os.listdir(dir_prediction)})"
   ]
  },
  {
   "cell_type": "code",
   "execution_count": 31,
   "metadata": {},
   "outputs": [
    {
     "name": "stdout",
     "output_type": "stream",
     "text": [
      "Found 7960 images.\n"
     ]
    }
   ],
   "source": [
    "predict_datagen = ImageDataGenerator(rescale=1./255)\n",
    "\n",
    "predict_generator = predict_datagen.flow_from_dataframe(\n",
    "    dataframe=df_predict, \n",
    "    directory=dir_prediction,\n",
    "    ####save_to_dir=dir_my_working,\n",
    "    #####save_prefix='VALID',\n",
    "    target_size=(image_size, image_size),\n",
    "    batch_size=train_batchsize,\n",
    "    ###############class_mode='categorical',\n",
    "    ######class_mode='categorical',\n",
    "    class_mode=None,\n",
    "    x_col='Image', \n",
    "    ###############y_col='Id', \n",
    "    y_col=None, \n",
    "    has_ext=True \n",
    ")"
   ]
  },
  {
   "cell_type": "code",
   "execution_count": 32,
   "metadata": {},
   "outputs": [
    {
     "name": "stdout",
     "output_type": "stream",
     "text": [
      "249/248 [==============================] - 81s 324ms/step\n",
      "CPU times: user 1min 32s, sys: 0 ns, total: 1min 32s\n",
      "Wall time: 1min 20s\n"
     ]
    }
   ],
   "source": [
    "%%time \n",
    "\n",
    "predict_generator.reset()\n",
    "STEP_SIZE_PREDICT=predict_generator.n/predict_generator.batch_size\n",
    "\n",
    "prediction_challenge = model_gpu.predict_generator(\n",
    "    predict_generator,\n",
    "    steps=STEP_SIZE_PREDICT,\n",
    "    verbose=1)"
   ]
  },
  {
   "cell_type": "code",
   "execution_count": 33,
   "metadata": {},
   "outputs": [],
   "source": [
    "df_prediction_challenge = pd.DataFrame(prediction_challenge, columns=col_name, index=df_predict.Image.values)\n"
   ]
  },
  {
   "cell_type": "code",
   "execution_count": 34,
   "metadata": {},
   "outputs": [],
   "source": [
    "df_prediction_challenge.to_csv(rep_output+'3_10_DF_PREDICTION_CHALLENGE.csv', index=True)"
   ]
  },
  {
   "cell_type": "markdown",
   "metadata": {},
   "source": [
    "## Graphes "
   ]
  },
  {
   "cell_type": "code",
   "execution_count": 35,
   "metadata": {},
   "outputs": [
    {
     "name": "stdout",
     "output_type": "stream",
     "text": [
      "dict_keys(['val_loss', 'val_acc', 'loss', 'acc'])\n"
     ]
    },
    {
     "data": {
      "image/png": "[encoded data removed]",
      "text/plain": [
       "<Figure size 1440x720 with 2 Axes>"
      ]
     },
     "metadata": {},
     "output_type": "display_data"
    }
   ],
   "source": [
    "#list all data in history\n",
    "plt.figure(figsize=(20, 10), )\n",
    "\n",
    "plt.subplot(121)\n",
    "print(history_gpu.history.keys())\n",
    "# summarize history for accuracy\n",
    "plt.plot(history_gpu.history['acc'])\n",
    "plt.plot(history_gpu.history['val_acc'])\n",
    "plt.title('model accuracy')\n",
    "plt.ylabel('accuracy')\n",
    "plt.xlabel('epoch')\n",
    "plt.legend(['train', 'test'], loc='upper left')\n",
    "\n",
    "plt.subplot(122)\n",
    "# summarize history for loss\n",
    "plt.plot(history_gpu.history['loss'])\n",
    "plt.plot(history_gpu.history['val_loss'])\n",
    "plt.title('model loss')\n",
    "plt.ylabel('loss')\n",
    "plt.xlabel('epoch')\n",
    "plt.legend(['train', 'test'], loc='upper left')\n",
    "plt.show()"
   ]
  }
 ],
 "metadata": {
  "kernelspec": {
   "display_name": "Python 3",
   "language": "python",
   "name": "python3"
  },
  "language_info": {
   "codemirror_mode": {
    "name": "ipython",
    "version": 3
   },
   "file_extension": ".py",
   "mimetype": "text/x-python",
   "name": "python",
   "nbconvert_exporter": "python",
   "pygments_lexer": "ipython3",
   "version": "3.6.3"
  }
 },
 "nbformat": 4,
 "nbformat_minor": 2
}
